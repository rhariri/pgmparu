{
 "cells": [
  {
   "cell_type": "code",
   "execution_count": 35,
   "metadata": {},
   "outputs": [],
   "source": [
    "import tensorflow as tf\n",
    "from keras_preprocessing.image import ImageDataGenerator\n",
    "import joblib"
   ]
  },
  {
   "cell_type": "code",
   "execution_count": 2,
   "metadata": {},
   "outputs": [],
   "source": [
    "# There are two classes of interests among the images in dataset\n",
    "cls_of_int = ['Covid', 'Normal']"
   ]
  },
  {
   "cell_type": "code",
   "execution_count": 11,
   "metadata": {},
   "outputs": [],
   "source": [
    "basePath = \"Data\"\n",
    "trainPath = os.path.join(basePath,\"train\")\n",
    "testPath = os.path.join(basePath,\"test\")\n",
    "validPath = os.path.join(basePath,\"valid\")\n",
    "\n",
    "trainCovid = os.path.join(trainPath,\"Covid\")\n",
    "trainNormal = os.path.join(trainPath,\"Normal\")\n",
    "\n",
    "testCovid = os.path.join(testPath,\"Covid\")\n",
    "testNormal = os.path.join(testPath,\"Normal\")\n",
    "\n",
    "validCovid = os.path.join(basePath,\"valid\",\"Covid\")\n",
    "validNormal = os.path.join(basePath,\"valid\",\"Normal\")"
   ]
  },
  {
   "cell_type": "code",
   "execution_count": 3,
   "metadata": {},
   "outputs": [],
   "source": [
    "# using a data generator for data augmentation\n",
    "train_data_generator = ImageDataGenerator(\n",
    "    rotation_range=30,\n",
    "    width_shift_range=0.2,\n",
    "    height_shift_range=0.2,\n",
    "    rescale=1.0/255,\n",
    "    shear_range=0.2,\n",
    "    zoom_range=0.2,\n",
    "    vertical_flip = False,\n",
    "    fill_mode='nearest',\n",
    "    featurewise_center = True,\n",
    "    featurewise_std_normalization = True)"
   ]
  },
  {
   "cell_type": "code",
   "execution_count": 4,
   "metadata": {},
   "outputs": [],
   "source": [
    "valid_data_generator = ImageDataGenerator(rescale = 1./255)"
   ]
  },
  {
   "cell_type": "code",
   "execution_count": 5,
   "metadata": {},
   "outputs": [],
   "source": [
    "test_data_generator = ImageDataGenerator(rescale = 1./255)"
   ]
  },
  {
   "cell_type": "code",
   "execution_count": 9,
   "metadata": {},
   "outputs": [
    {
     "output_type": "stream",
     "name": "stdout",
     "text": "Found 11047 images belonging to 2 classes.\n"
    }
   ],
   "source": [
    "train_generator = train_data_generator.flow_from_directory(\n",
    "    directory=trainPath,\n",
    "    target_size=(224, 224),\n",
    "    color_mode=\"rgb\",\n",
    "    batch_size=32,\n",
    "    class_mode=\"categorical\",\n",
    "    shuffle=True,\n",
    "    seed=42\n",
    ")"
   ]
  },
  {
   "cell_type": "code",
   "execution_count": 13,
   "metadata": {},
   "outputs": [
    {
     "output_type": "stream",
     "name": "stdout",
     "text": "Found 2208 images belonging to 2 classes.\n"
    }
   ],
   "source": [
    "valid_generator = valid_data_generator.flow_from_directory(\n",
    "    directory= validPath,\n",
    "    target_size=(224, 224),\n",
    "    color_mode=\"rgb\",\n",
    "    batch_size=32,\n",
    "    class_mode=\"categorical\",\n",
    "    shuffle=True,\n",
    "    seed=42\n",
    ")"
   ]
  },
  {
   "cell_type": "code",
   "execution_count": 15,
   "metadata": {},
   "outputs": [
    {
     "output_type": "stream",
     "name": "stdout",
     "text": "Found 2761 images belonging to 2 classes.\n"
    }
   ],
   "source": [
    "test_generator = test_data_generator.flow_from_directory(\n",
    "    directory= testPath,\n",
    "    target_size=(224, 224),\n",
    "    color_mode=\"rgb\",\n",
    "    batch_size=11,\n",
    "    class_mode=None,\n",
    "    shuffle=False,\n",
    "    seed=42\n",
    ")"
   ]
  },
  {
   "cell_type": "code",
   "execution_count": 18,
   "metadata": {},
   "outputs": [
    {
     "output_type": "stream",
     "name": "stdout",
     "text": "Downloading data from https://storage.googleapis.com/tensorflow/keras-applications/inception_v3/inception_v3_weights_tf_dim_ordering_tf_kernels_notop.h5\n87916544/87910968 [==============================] - 3s 0us/step\n"
    }
   ],
   "source": [
    "pretrained_model = tf.keras.applications.InceptionV3(\n",
    "        weights='imagenet',\n",
    "        include_top=False ,\n",
    "        input_shape=(299,299,3)\n",
    "    )\n",
    "pretrained_model.trainable = False\n",
    "    \n",
    "model = tf.keras.Sequential([ \n",
    "        pretrained_model,   \n",
    "        tf.keras.layers.GlobalAveragePooling2D(),\n",
    "        tf.keras.layers.Dense(2, activation='softmax')\n",
    "    ])"
   ]
  },
  {
   "cell_type": "code",
   "execution_count": 19,
   "metadata": {},
   "outputs": [],
   "source": [
    "opt = tf.keras.optimizers.Adam(learning_rate=0.001)\n",
    "model.compile(optimizer = opt ,\n",
    "              loss=\"binary_crossentropy\",\n",
    "              metrics=[\"accuracy\"])"
   ]
  },
  {
   "cell_type": "code",
   "execution_count": 20,
   "metadata": {},
   "outputs": [
    {
     "output_type": "stream",
     "name": "stdout",
     "text": "Model: \"sequential\"\n_________________________________________________________________\nLayer (type)                 Output Shape              Param #   \n=================================================================\ninception_v3 (Functional)    (None, 8, 8, 2048)        21802784  \n_________________________________________________________________\nglobal_average_pooling2d (Gl (None, 2048)              0         \n_________________________________________________________________\ndense (Dense)                (None, 2)                 4098      \n=================================================================\nTotal params: 21,806,882\nTrainable params: 4,098\nNon-trainable params: 21,802,784\n_________________________________________________________________\n"
    }
   ],
   "source": [
    "model.summary()"
   ]
  },
  {
   "cell_type": "code",
   "execution_count": 21,
   "metadata": {},
   "outputs": [
    {
     "output_type": "stream",
     "name": "stdout",
     "text": "WARNING:tensorflow:From <ipython-input-21-2d530f6ea375>:7: Model.fit_generator (from tensorflow.python.keras.engine.training) is deprecated and will be removed in a future version.\nInstructions for updating:\nPlease use Model.fit, which supports generators.\nEpoch 1/10\n345/345 [==============================] - 500s 1s/step - loss: 0.3683 - accuracy: 0.8422 - val_loss: 0.3258 - val_accuracy: 0.8582\nEpoch 2/10\n345/345 [==============================] - 510s 1s/step - loss: 0.3035 - accuracy: 0.8788 - val_loss: 0.2793 - val_accuracy: 0.8877\nEpoch 3/10\n345/345 [==============================] - 509s 1s/step - loss: 0.2852 - accuracy: 0.8872 - val_loss: 0.2798 - val_accuracy: 0.8940\nEpoch 4/10\n345/345 [==============================] - 506s 1s/step - loss: 0.2819 - accuracy: 0.8892 - val_loss: 0.2791 - val_accuracy: 0.8872\nEpoch 5/10\n345/345 [==============================] - 510s 1s/step - loss: 0.2757 - accuracy: 0.8904 - val_loss: 0.3856 - val_accuracy: 0.8533\nEpoch 6/10\n345/345 [==============================] - 536s 2s/step - loss: 0.2643 - accuracy: 0.8937 - val_loss: 0.2800 - val_accuracy: 0.8863\nEpoch 7/10\n345/345 [==============================] - 526s 2s/step - loss: 0.2676 - accuracy: 0.8930 - val_loss: 0.2638 - val_accuracy: 0.8949\nEpoch 8/10\n345/345 [==============================] - 530s 2s/step - loss: 0.2619 - accuracy: 0.8941 - val_loss: 0.2743 - val_accuracy: 0.8881\nEpoch 9/10\n345/345 [==============================] - 529s 2s/step - loss: 0.2631 - accuracy: 0.8924 - val_loss: 0.3080 - val_accuracy: 0.8705\nEpoch 10/10\n345/345 [==============================] - 533s 2s/step - loss: 0.2598 - accuracy: 0.8970 - val_loss: 0.2716 - val_accuracy: 0.8913\n"
    },
    {
     "output_type": "execute_result",
     "data": {
      "text/plain": "<tensorflow.python.keras.callbacks.History at 0x1f4432c8da0>"
     },
     "metadata": {},
     "execution_count": 21
    }
   ],
   "source": [
    "STEP_SIZE_TRAIN=train_generator.n//train_generator.batch_size\n",
    "STEP_SIZE_VALID=valid_generator.n//valid_generator.batch_size\n",
    "model.fit_generator(generator=train_generator,\n",
    "                    steps_per_epoch=STEP_SIZE_TRAIN,\n",
    "                    validation_data=valid_generator,\n",
    "                    validation_steps=STEP_SIZE_VALID,\n",
    "                    epochs=10\n",
    ")"
   ]
  },
  {
   "cell_type": "code",
   "execution_count": 25,
   "metadata": {},
   "outputs": [
    {
     "output_type": "stream",
     "name": "stdout",
     "text": "69/69 [==============================] - 75s 1s/step - loss: 0.2716 - accuracy: 0.8913\n"
    },
    {
     "output_type": "execute_result",
     "data": {
      "text/plain": "[0.2716220021247864, 0.8913043737411499]"
     },
     "metadata": {},
     "execution_count": 25
    }
   ],
   "source": [
    "model.evaluate(valid_generator,steps=STEP_SIZE_VALID)"
   ]
  },
  {
   "cell_type": "code",
   "execution_count": 27,
   "metadata": {},
   "outputs": [
    {
     "output_type": "stream",
     "name": "stdout",
     "text": "251/251 [==============================] - 12s 48ms/step - loss: 0.0000e+00 - accuracy: 0.0000e+00\n"
    },
    {
     "output_type": "execute_result",
     "data": {
      "text/plain": "[0.0, 0.0]"
     },
     "metadata": {},
     "execution_count": 27
    }
   ],
   "source": [
    "model.evaluate(test_generator)"
   ]
  },
  {
   "cell_type": "code",
   "execution_count": 28,
   "metadata": {},
   "outputs": [
    {
     "output_type": "stream",
     "name": "stdout",
     "text": "69/69 [==============================] - 70s 1s/step - loss: 0.2716 - accuracy: 0.8913\nAccuracy: 89.13%\nLoss:  0.2716220021247864\n"
    }
   ],
   "source": [
    "score = model.evaluate(valid_generator,batch_size=32)\n",
    "print(\"Accuracy: {:.2f}%\".format(score[1] * 100)) \n",
    "print(\"Loss: \",score[0])"
   ]
  },
  {
   "cell_type": "code",
   "execution_count": 33,
   "metadata": {},
   "outputs": [
    {
     "output_type": "stream",
     "name": "stdout",
     "text": "251/251 [==============================] - 12s 47ms/step - loss: 0.0000e+00 - accuracy: 0.0000e+00\nAccuracy: 0.00%\nLoss:  0.0\n"
    }
   ],
   "source": [
    "score = model.evaluate(test_generator,batch_size=11)\n",
    "print(\"Accuracy: {:.2f}%\".format(score[1] * 100)) \n",
    "print(\"Loss: \",score[0])"
   ]
  },
  {
   "cell_type": "code",
   "execution_count": 38,
   "metadata": {},
   "outputs": [
    {
     "output_type": "stream",
     "name": "stdout",
     "text": "INFO:tensorflow:Assets written to: imagegeneratormodel\\assets\n"
    }
   ],
   "source": [
    "model.save('imagegeneratormodel')"
   ]
  }
 ],
 "metadata": {
  "language_info": {
   "codemirror_mode": {
    "name": "ipython",
    "version": 3
   },
   "file_extension": ".py",
   "mimetype": "text/x-python",
   "name": "python",
   "nbconvert_exporter": "python",
   "pygments_lexer": "ipython3",
   "version": "3.7.3-final"
  },
  "orig_nbformat": 2,
  "kernelspec": {
   "name": "python37364bitbasecondaf383220905794909b11b5da2082be562",
   "display_name": "Python 3.7.3 64-bit ('base': conda)"
  }
 },
 "nbformat": 4,
 "nbformat_minor": 2
}