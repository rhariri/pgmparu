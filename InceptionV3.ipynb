{
 "cells": [
  {
   "cell_type": "code",
   "execution_count": 1,
   "source": [
    "#Importing necessary Libraries\r\n",
    "import tensorflow as tf\r\n",
    "from keras_preprocessing.image import ImageDataGenerator\r\n",
    "import os\r\n",
    "import keras"
   ],
   "outputs": [],
   "metadata": {}
  },
  {
   "cell_type": "code",
   "execution_count": 2,
   "source": [
    "# There are two classes of interests among the images in dataset\r\n",
    "cls_of_int = ['Covid', 'Normal']"
   ],
   "outputs": [],
   "metadata": {}
  },
  {
   "cell_type": "code",
   "execution_count": 3,
   "source": [
    "#setting the path variables for train, test and validation data\r\n",
    "basePath = \"Data\"\r\n",
    "trainPath = os.path.join(basePath,\"train\")\r\n",
    "testPath = os.path.join(basePath,\"test\")\r\n",
    "validPath = os.path.join(basePath,\"valid\")\r\n",
    "\r\n",
    "trainCovid = os.path.join(trainPath,\"Covid\")\r\n",
    "trainNormal = os.path.join(trainPath,\"Normal\")\r\n",
    "\r\n",
    "testCovid = os.path.join(testPath,\"Covid\")\r\n",
    "testNormal = os.path.join(testPath,\"Normal\")\r\n",
    "\r\n",
    "validCovid = os.path.join(basePath,\"valid\",\"Covid\")\r\n",
    "validNormal = os.path.join(basePath,\"valid\",\"Normal\")"
   ],
   "outputs": [],
   "metadata": {}
  },
  {
   "cell_type": "code",
   "execution_count": 4,
   "source": [
    "# using a data generator for data augmentation, the volume of training data is increased using data augmentation techniques\r\n",
    "train_data_generator = ImageDataGenerator(\r\n",
    "    rotation_range=30,\r\n",
    "    width_shift_range=0.2,\r\n",
    "    height_shift_range=0.2,\r\n",
    "    rescale=1.0/255, # Normalizing the image\r\n",
    "    shear_range=0.2,\r\n",
    "    zoom_range=0.2,\r\n",
    "    vertical_flip = False,\r\n",
    "    fill_mode='nearest',\r\n",
    "    featurewise_center = True,\r\n",
    "    featurewise_std_normalization = True)"
   ],
   "outputs": [],
   "metadata": {}
  },
  {
   "cell_type": "code",
   "execution_count": 5,
   "source": [
    "# The data generator for validation data, normalizing of the image is done\r\n",
    "valid_data_generator = ImageDataGenerator(rescale = 1./255)"
   ],
   "outputs": [],
   "metadata": {}
  },
  {
   "cell_type": "code",
   "execution_count": 6,
   "source": [
    "# The data generator for test data, normalizing of the image is done\r\n",
    "test_data_generator = ImageDataGenerator(rescale = 1./255)"
   ],
   "outputs": [],
   "metadata": {}
  },
  {
   "cell_type": "code",
   "execution_count": 7,
   "source": [
    "# Read data from directory for training data\r\n",
    "train_generator = train_data_generator.flow_from_directory(\r\n",
    "    directory=trainPath,\r\n",
    "    target_size=(224, 224), # resizing the image\r\n",
    "    color_mode=\"rgb\",\r\n",
    "    batch_size=32,\r\n",
    "    class_mode=\"binary\", # class mode is binary as there are only 2 classes\r\n",
    "    shuffle=True,\r\n",
    "    seed=42\r\n",
    ")"
   ],
   "outputs": [
    {
     "output_type": "stream",
     "name": "stdout",
     "text": [
      "Found 11047 images belonging to 2 classes.\n"
     ]
    }
   ],
   "metadata": {}
  },
  {
   "cell_type": "code",
   "execution_count": 8,
   "source": [
    "# Read data from directory for validation data\r\n",
    "valid_generator = valid_data_generator.flow_from_directory(\r\n",
    "    directory= validPath,\r\n",
    "    target_size=(224, 224), # resizing the image\r\n",
    "    color_mode=\"rgb\",\r\n",
    "    batch_size=32,\r\n",
    "    class_mode=\"binary\", # class mode is binary as there are only 2 classes\r\n",
    "    shuffle=True,\r\n",
    "    seed=42\r\n",
    ")"
   ],
   "outputs": [
    {
     "output_type": "stream",
     "name": "stdout",
     "text": [
      "Found 2208 images belonging to 2 classes.\n"
     ]
    }
   ],
   "metadata": {}
  },
  {
   "cell_type": "code",
   "execution_count": 9,
   "source": [
    "# Read data from directory for test data\r\n",
    "test_generator = test_data_generator.flow_from_directory(\r\n",
    "    directory= testPath,\r\n",
    "    target_size=(224, 224), # resizing the image\r\n",
    "    color_mode=\"rgb\",\r\n",
    "    batch_size=11,\r\n",
    "    class_mode='binary', # class mode is binary as there are only 2 classes\r\n",
    "    shuffle=False,\r\n",
    "    seed=42\r\n",
    ")"
   ],
   "outputs": [
    {
     "output_type": "stream",
     "name": "stdout",
     "text": [
      "Found 2761 images belonging to 2 classes.\n"
     ]
    }
   ],
   "metadata": {}
  },
  {
   "cell_type": "code",
   "execution_count": 10,
   "source": [
    "# Downloading the inception V3 model.\r\n",
    "pretrained_model = tf.keras.applications.InceptionV3(\r\n",
    "        weights='imagenet',\r\n",
    "        include_top=False ,\r\n",
    "        input_shape=(224,224,3)\r\n",
    "    )\r\n",
    "pretrained_model.trainable = False\r\n",
    "\r\n",
    "# Added Pooling layer and a sigmoid activation layer.    \r\n",
    "model = tf.keras.Sequential([ \r\n",
    "        pretrained_model,   \r\n",
    "        tf.keras.layers.GlobalAveragePooling2D(),\r\n",
    "        tf.keras.layers.Dense(1, activation='sigmoid')\r\n",
    "    ])"
   ],
   "outputs": [
    {
     "output_type": "stream",
     "name": "stdout",
     "text": [
      "Downloading data from https://storage.googleapis.com/tensorflow/keras-applications/inception_v3/inception_v3_weights_tf_dim_ordering_tf_kernels_notop.h5\n",
      "87916544/87910968 [==============================] - 14s 0us/step\n"
     ]
    }
   ],
   "metadata": {}
  },
  {
   "cell_type": "code",
   "execution_count": 11,
   "source": [
    "# Compiling the model with Adam optimizer and binary cross entropy loss function\r\n",
    "opt = tf.keras.optimizers.Adam(learning_rate=0.001)\r\n",
    "model.compile(optimizer = opt ,\r\n",
    "              loss=\"binary_crossentropy\",\r\n",
    "              metrics=[\"accuracy\"])"
   ],
   "outputs": [],
   "metadata": {}
  },
  {
   "cell_type": "code",
   "execution_count": 12,
   "source": [
    "# To display the summary of the model\r\n",
    "model.summary()"
   ],
   "outputs": [
    {
     "output_type": "stream",
     "name": "stdout",
     "text": [
      "Model: \"sequential\"\n",
      "_________________________________________________________________\n",
      "Layer (type)                 Output Shape              Param #   \n",
      "=================================================================\n",
      "inception_v3 (Functional)    (None, 8, 8, 2048)        21802784  \n",
      "_________________________________________________________________\n",
      "global_average_pooling2d (Gl (None, 2048)              0         \n",
      "_________________________________________________________________\n",
      "dense (Dense)                (None, 2)                 4098      \n",
      "=================================================================\n",
      "Total params: 21,806,882\n",
      "Trainable params: 4,098\n",
      "Non-trainable params: 21,802,784\n",
      "_________________________________________________________________\n"
     ]
    }
   ],
   "metadata": {}
  },
  {
   "cell_type": "code",
   "execution_count": 13,
   "source": [
    "# specifying the batch sizes\r\n",
    "STEP_SIZE_TRAIN=train_generator.n//train_generator.batch_size\r\n",
    "STEP_SIZE_VALID=valid_generator.n//valid_generator.batch_size"
   ],
   "outputs": [],
   "metadata": {}
  },
  {
   "cell_type": "code",
   "execution_count": 14,
   "source": [
    "# Fitting the model with 20 epochs\r\n",
    "model.fit_generator(generator = train_generator,\r\n",
    "                    steps_per_epoch=STEP_SIZE_TRAIN,\r\n",
    "                    validation_data=valid_generator,\r\n",
    "                    validation_steps=STEP_SIZE_VALID,\r\n",
    "                    epochs=20\r\n",
    ")"
   ],
   "outputs": [
    {
     "output_type": "stream",
     "name": "stderr",
     "text": [
      "G:\\Users\\Ajay\\anaconda3\\lib\\site-packages\\tensorflow\\python\\keras\\engine\\training.py:1844: UserWarning: `Model.fit_generator` is deprecated and will be removed in a future version. Please use `Model.fit`, which supports generators.\n",
      "  warnings.warn('`Model.fit_generator` is deprecated and '\n",
      "G:\\Users\\Ajay\\anaconda3\\lib\\site-packages\\keras_preprocessing\\image\\image_data_generator.py:720: UserWarning: This ImageDataGenerator specifies `featurewise_center`, but it hasn't been fit on any training data. Fit it first by calling `.fit(numpy_data)`.\n",
      "  warnings.warn('This ImageDataGenerator specifies '\n",
      "G:\\Users\\Ajay\\anaconda3\\lib\\site-packages\\keras_preprocessing\\image\\image_data_generator.py:728: UserWarning: This ImageDataGenerator specifies `featurewise_std_normalization`, but it hasn't been fit on any training data. Fit it first by calling `.fit(numpy_data)`.\n",
      "  warnings.warn('This ImageDataGenerator specifies '\n"
     ]
    },
    {
     "output_type": "stream",
     "name": "stdout",
     "text": [
      "Epoch 1/20\n",
      "345/345 [==============================] - 710s 2s/step - loss: 0.4353 - accuracy: 0.8170 - val_loss: 0.3160 - val_accuracy: 0.8700\n",
      "Epoch 2/20\n",
      "345/345 [==============================] - 642s 2s/step - loss: 0.3062 - accuracy: 0.8782 - val_loss: 0.2960 - val_accuracy: 0.8759\n",
      "Epoch 3/20\n",
      "345/345 [==============================] - 638s 2s/step - loss: 0.2962 - accuracy: 0.8794 - val_loss: 0.2847 - val_accuracy: 0.8845\n",
      "Epoch 4/20\n",
      "345/345 [==============================] - 654s 2s/step - loss: 0.2824 - accuracy: 0.8874 - val_loss: 0.3009 - val_accuracy: 0.8759\n",
      "Epoch 5/20\n",
      "345/345 [==============================] - 639s 2s/step - loss: 0.2774 - accuracy: 0.8900 - val_loss: 0.2727 - val_accuracy: 0.8963\n",
      "Epoch 6/20\n",
      "345/345 [==============================] - 616s 2s/step - loss: 0.2756 - accuracy: 0.8892 - val_loss: 0.2748 - val_accuracy: 0.8949\n",
      "Epoch 7/20\n",
      "345/345 [==============================] - 640s 2s/step - loss: 0.2628 - accuracy: 0.8944 - val_loss: 0.2695 - val_accuracy: 0.8895\n",
      "Epoch 8/20\n",
      "345/345 [==============================] - 628s 2s/step - loss: 0.2589 - accuracy: 0.8984 - val_loss: 0.2921 - val_accuracy: 0.8813\n",
      "Epoch 9/20\n",
      "345/345 [==============================] - 623s 2s/step - loss: 0.2543 - accuracy: 0.9004 - val_loss: 0.2777 - val_accuracy: 0.8877\n",
      "Epoch 10/20\n",
      "345/345 [==============================] - 608s 2s/step - loss: 0.2625 - accuracy: 0.8960 - val_loss: 0.2944 - val_accuracy: 0.8804\n",
      "Epoch 11/20\n",
      "345/345 [==============================] - 617s 2s/step - loss: 0.2515 - accuracy: 0.8980 - val_loss: 0.2671 - val_accuracy: 0.8890\n",
      "Epoch 12/20\n",
      "345/345 [==============================] - 628s 2s/step - loss: 0.2435 - accuracy: 0.9025 - val_loss: 0.3288 - val_accuracy: 0.8714\n",
      "Epoch 13/20\n",
      "345/345 [==============================] - 643s 2s/step - loss: 0.2544 - accuracy: 0.8953 - val_loss: 0.2804 - val_accuracy: 0.8854\n",
      "Epoch 14/20\n",
      "345/345 [==============================] - 613s 2s/step - loss: 0.2500 - accuracy: 0.9020 - val_loss: 0.2592 - val_accuracy: 0.8963\n",
      "Epoch 15/20\n",
      "345/345 [==============================] - 583s 2s/step - loss: 0.2487 - accuracy: 0.8987 - val_loss: 0.2603 - val_accuracy: 0.8949\n",
      "Epoch 16/20\n",
      "345/345 [==============================] - 637s 2s/step - loss: 0.2425 - accuracy: 0.9035 - val_loss: 0.2565 - val_accuracy: 0.8999\n",
      "Epoch 17/20\n",
      "345/345 [==============================] - 692s 2s/step - loss: 0.2455 - accuracy: 0.8998 - val_loss: 0.2535 - val_accuracy: 0.8981\n",
      "Epoch 18/20\n",
      "345/345 [==============================] - 615s 2s/step - loss: 0.2437 - accuracy: 0.9037 - val_loss: 0.2887 - val_accuracy: 0.8832\n",
      "Epoch 19/20\n",
      "345/345 [==============================] - 611s 2s/step - loss: 0.2388 - accuracy: 0.9059 - val_loss: 0.2538 - val_accuracy: 0.8986\n",
      "Epoch 20/20\n",
      "345/345 [==============================] - 609s 2s/step - loss: 0.2486 - accuracy: 0.9007 - val_loss: 0.2495 - val_accuracy: 0.8958\n"
     ]
    },
    {
     "output_type": "execute_result",
     "data": {
      "text/plain": [
       "<tensorflow.python.keras.callbacks.History at 0x149d37641f0>"
      ]
     },
     "metadata": {},
     "execution_count": 14
    }
   ],
   "metadata": {}
  },
  {
   "cell_type": "code",
   "execution_count": 15,
   "source": [
    "model.evaluate(valid_generator,steps=STEP_SIZE_VALID)"
   ],
   "outputs": [
    {
     "output_type": "stream",
     "name": "stdout",
     "text": [
      "69/69 [==============================] - 92s 1s/step - loss: 0.2495 - accuracy: 0.8958\n"
     ]
    },
    {
     "output_type": "execute_result",
     "data": {
      "text/plain": [
       "[0.24947570264339447, 0.8958333134651184]"
      ]
     },
     "metadata": {},
     "execution_count": 15
    }
   ],
   "metadata": {}
  },
  {
   "cell_type": "code",
   "execution_count": 16,
   "source": [
    "model.evaluate(test_generator)"
   ],
   "outputs": [
    {
     "output_type": "stream",
     "name": "stdout",
     "text": [
      "251/251 [==============================] - 121s 482ms/step - loss: 0.2609 - accuracy: 0.8950\n"
     ]
    },
    {
     "output_type": "execute_result",
     "data": {
      "text/plain": [
       "[0.2608718276023865, 0.8949655890464783]"
      ]
     },
     "metadata": {},
     "execution_count": 16
    }
   ],
   "metadata": {}
  },
  {
   "cell_type": "code",
   "execution_count": 17,
   "source": [
    "# Evaluating the validation data set\r\n",
    "score = model.evaluate(valid_generator,batch_size=32)\r\n",
    "print(\"Accuracy: {:.2f}%\".format(score[1] * 100)) \r\n",
    "print(\"Loss: \",score[0])"
   ],
   "outputs": [
    {
     "output_type": "stream",
     "name": "stdout",
     "text": [
      "69/69 [==============================] - 90s 1s/step - loss: 0.2495 - accuracy: 0.8958\n",
      "Accuracy: 89.58%\n",
      "Loss:  0.2494756430387497\n"
     ]
    }
   ],
   "metadata": {}
  },
  {
   "cell_type": "code",
   "execution_count": 18,
   "source": [
    "# Evaluating the test data set\r\n",
    "score = model.evaluate(test_generator,batch_size=11)\r\n",
    "print(\"Accuracy: {:.2f}%\".format(score[1] * 100)) \r\n",
    "print(\"Loss: \",score[0])"
   ],
   "outputs": [
    {
     "output_type": "stream",
     "name": "stdout",
     "text": [
      "251/251 [==============================] - 122s 485ms/step - loss: 0.2609 - accuracy: 0.8950\n",
      "Accuracy: 89.50%\n",
      "Loss:  0.2608718276023865\n"
     ]
    }
   ],
   "metadata": {}
  },
  {
   "cell_type": "code",
   "execution_count": 19,
   "source": [
    "model.save('imagegeneratormodel')"
   ],
   "outputs": [
    {
     "output_type": "stream",
     "name": "stdout",
     "text": [
      "INFO:tensorflow:Assets written to: imagegeneratormodel\\assets\n"
     ]
    }
   ],
   "metadata": {}
  },
  {
   "cell_type": "code",
   "execution_count": 20,
   "source": [
    "loaded_model = keras.models.load_model('imagegeneratormodel')"
   ],
   "outputs": [],
   "metadata": {}
  },
  {
   "cell_type": "code",
   "execution_count": 21,
   "source": [
    "valscore = loaded_model.evaluate(valid_generator)\r\n",
    "print(\"Accuracy: {:.2f}%\".format(valscore[1] * 100))"
   ],
   "outputs": [
    {
     "output_type": "stream",
     "name": "stdout",
     "text": [
      "69/69 [==============================] - 100s 1s/step - loss: 0.2495 - accuracy: 0.8958\n",
      "Accuracy: 89.58%\n"
     ]
    }
   ],
   "metadata": {}
  },
  {
   "cell_type": "code",
   "execution_count": 22,
   "source": [
    "score = loaded_model.evaluate(test_generator)\r\n",
    "print(\"Accuracy: {:.2f}%\".format(score[1] * 100))"
   ],
   "outputs": [
    {
     "output_type": "stream",
     "name": "stdout",
     "text": [
      "251/251 [==============================] - 120s 478ms/step - loss: 0.2609 - accuracy: 0.8950\n",
      "Accuracy: 89.50%\n"
     ]
    }
   ],
   "metadata": {}
  }
 ],
 "metadata": {
  "kernelspec": {
   "name": "python3",
   "display_name": "Python 3.8.3 64-bit ('base': conda)"
  },
  "language_info": {
   "codemirror_mode": {
    "name": "ipython",
    "version": 3
   },
   "file_extension": ".py",
   "mimetype": "text/x-python",
   "name": "python",
   "nbconvert_exporter": "python",
   "pygments_lexer": "ipython3",
   "version": "3.8.3"
  },
  "interpreter": {
   "hash": "b7ddd633ae6f8035a3efd49b5d587b4e36579d898fb8d708eb7adffb43601494"
  }
 },
 "nbformat": 4,
 "nbformat_minor": 2
}