{
 "cells": [
  {
   "cell_type": "code",
   "execution_count": 1,
   "source": [
    "#importing libraries\r\n",
    "import tensorflow as tf\r\n",
    "from keras_preprocessing.image import ImageDataGenerator\r\n",
    "import os\r\n",
    "import keras"
   ],
   "outputs": [],
   "metadata": {}
  },
  {
   "cell_type": "code",
   "execution_count": 2,
   "source": [
    "# There are two classes of interests among the images in dataset\r\n",
    "cls_of_int = ['Covid', 'Normal']"
   ],
   "outputs": [],
   "metadata": {}
  },
  {
   "cell_type": "code",
   "execution_count": 3,
   "source": [
    "#setting the path variables for train, test and validation data\r\n",
    "basePath = \"Data\"\r\n",
    "trainPath = os.path.join(basePath,\"train\")\r\n",
    "testPath = os.path.join(basePath,\"test\")\r\n",
    "validPath = os.path.join(basePath,\"valid\")\r\n",
    "\r\n",
    "trainCovid = os.path.join(trainPath,\"Covid\")\r\n",
    "trainNormal = os.path.join(trainPath,\"Normal\")\r\n",
    "\r\n",
    "testCovid = os.path.join(testPath,\"Covid\")\r\n",
    "testNormal = os.path.join(testPath,\"Normal\")\r\n",
    "\r\n",
    "validCovid = os.path.join(basePath,\"valid\",\"Covid\")\r\n",
    "validNormal = os.path.join(basePath,\"valid\",\"Normal\")"
   ],
   "outputs": [],
   "metadata": {}
  },
  {
   "cell_type": "code",
   "execution_count": 4,
   "source": [
    "# using a data generator for data augmentation, the volume of training data is increased using data augmentation techniques\r\n",
    "train_data_generator = ImageDataGenerator(\r\n",
    "    rotation_range=30,\r\n",
    "    width_shift_range=0.2,\r\n",
    "    height_shift_range=0.2,\r\n",
    "    rescale=1.0/255,\r\n",
    "    shear_range=0.2,\r\n",
    "    zoom_range=0.2,\r\n",
    "    vertical_flip = False,\r\n",
    "    fill_mode='nearest',\r\n",
    "    featurewise_center = True,\r\n",
    "    featurewise_std_normalization = True)"
   ],
   "outputs": [],
   "metadata": {}
  },
  {
   "cell_type": "code",
   "execution_count": 5,
   "source": [
    "# The data generator for validation data, normalizing of the image is done\r\n",
    "valid_data_generator = ImageDataGenerator(rescale = 1./255)"
   ],
   "outputs": [],
   "metadata": {}
  },
  {
   "cell_type": "code",
   "execution_count": 6,
   "source": [
    "# The data generator for test data, normalizing of the image is done\r\n",
    "test_data_generator = ImageDataGenerator(rescale = 1./255)"
   ],
   "outputs": [],
   "metadata": {}
  },
  {
   "cell_type": "code",
   "execution_count": 7,
   "source": [
    "# Read data from directory for training data\r\n",
    "train_generator = train_data_generator.flow_from_directory(\r\n",
    "    directory=trainPath,\r\n",
    "    target_size=(224, 224),\r\n",
    "    color_mode=\"rgb\",\r\n",
    "    batch_size=32,\r\n",
    "    class_mode=\"binary\",\r\n",
    "    shuffle=True,\r\n",
    "    seed=42\r\n",
    ")"
   ],
   "outputs": [
    {
     "output_type": "stream",
     "name": "stdout",
     "text": [
      "Found 11047 images belonging to 2 classes.\n"
     ]
    }
   ],
   "metadata": {}
  },
  {
   "cell_type": "code",
   "execution_count": 8,
   "source": [
    "# Read data from directory for validation data\r\n",
    "valid_generator = valid_data_generator.flow_from_directory(\r\n",
    "    directory= validPath,\r\n",
    "    target_size=(224, 224),\r\n",
    "    color_mode=\"rgb\",\r\n",
    "    batch_size=32,\r\n",
    "    class_mode=\"binary\",\r\n",
    "    shuffle=True,\r\n",
    "    seed=42\r\n",
    ")"
   ],
   "outputs": [
    {
     "output_type": "stream",
     "name": "stdout",
     "text": [
      "Found 2208 images belonging to 2 classes.\n"
     ]
    }
   ],
   "metadata": {}
  },
  {
   "cell_type": "code",
   "execution_count": 9,
   "source": [
    "# Read data from directory for testing data\r\n",
    "test_generator = test_data_generator.flow_from_directory(\r\n",
    "    directory= testPath,\r\n",
    "    target_size=(224, 224),\r\n",
    "    color_mode=\"rgb\",\r\n",
    "    batch_size=11,\r\n",
    "    class_mode='binary',\r\n",
    "    shuffle=False,\r\n",
    "    seed=42\r\n",
    ")"
   ],
   "outputs": [
    {
     "output_type": "stream",
     "name": "stdout",
     "text": [
      "Found 2761 images belonging to 2 classes.\n"
     ]
    }
   ],
   "metadata": {}
  },
  {
   "cell_type": "code",
   "execution_count": 10,
   "source": [
    "# Downloading the MobileNetV3 model.\r\n",
    "pretrained_model = tf.keras.applications.MobileNetV3Large(\r\n",
    "        weights='imagenet',\r\n",
    "        include_top=False ,\r\n",
    "        input_shape=(224,224,3)\r\n",
    "    )\r\n",
    "pretrained_model.trainable = False\r\n",
    "\r\n",
    "# Added Pooling layer and a sigmoid activation layer.     \r\n",
    "model = tf.keras.Sequential([ \r\n",
    "        pretrained_model,   \r\n",
    "        tf.keras.layers.GlobalAveragePooling2D(),\r\n",
    "        tf.keras.layers.Dense(1, activation='sigmoid')\r\n",
    "    ])"
   ],
   "outputs": [
    {
     "output_type": "stream",
     "name": "stdout",
     "text": [
      "WARNING:tensorflow:`input_shape` is undefined or non-square, or `rows` is not 224. Weights for input shape (224, 224) will be loaded as the default.\n",
      "Downloading data from https://storage.googleapis.com/tensorflow/keras-applications/mobilenet_v3/weights_mobilenet_v3_large_224_1.0_float_no_top.h5\n",
      "17612800/17605208 [==============================] - 10s 1us/step\n",
      "17620992/17605208 [==============================] - 10s 1us/step\n"
     ]
    }
   ],
   "metadata": {}
  },
  {
   "cell_type": "code",
   "execution_count": 11,
   "source": [
    "# Compiling the model with Adam optimizer and binary cross entropy loss function\r\n",
    "opt = tf.keras.optimizers.Adam(learning_rate=0.001)\r\n",
    "model.compile(optimizer = opt ,\r\n",
    "              loss=\"binary_crossentropy\",\r\n",
    "              metrics=[\"accuracy\"])"
   ],
   "outputs": [],
   "metadata": {}
  },
  {
   "cell_type": "code",
   "execution_count": 12,
   "source": [
    "# To display the summary of the model\r\n",
    "model.summary()"
   ],
   "outputs": [
    {
     "output_type": "stream",
     "name": "stdout",
     "text": [
      "Model: \"sequential\"\n",
      "_________________________________________________________________\n",
      "Layer (type)                 Output Shape              Param #   \n",
      "=================================================================\n",
      "MobilenetV3large (Functional (None, 1, 1, 1280)        4226432   \n",
      "_________________________________________________________________\n",
      "global_average_pooling2d_1 ( (None, 1280)              0         \n",
      "_________________________________________________________________\n",
      "dense (Dense)                (None, 2)                 2562      \n",
      "=================================================================\n",
      "Total params: 4,228,994\n",
      "Trainable params: 2,562\n",
      "Non-trainable params: 4,226,432\n",
      "_________________________________________________________________\n"
     ]
    }
   ],
   "metadata": {}
  },
  {
   "cell_type": "code",
   "execution_count": 13,
   "source": [
    "# specifying the batch sizes\r\n",
    "STEP_SIZE_TRAIN=train_generator.n//train_generator.batch_size\r\n",
    "STEP_SIZE_VALID=valid_generator.n//valid_generator.batch_size"
   ],
   "outputs": [],
   "metadata": {}
  },
  {
   "cell_type": "code",
   "execution_count": 14,
   "source": [
    "# Fitting the model with 20 epochs\r\n",
    "model.fit_generator(generator = train_generator,\r\n",
    "                    steps_per_epoch=STEP_SIZE_TRAIN,\r\n",
    "                    validation_data=valid_generator,\r\n",
    "                    validation_steps=STEP_SIZE_VALID,\r\n",
    "                    epochs=20\r\n",
    ")"
   ],
   "outputs": [
    {
     "output_type": "stream",
     "name": "stderr",
     "text": [
      "D:\\Users\\Ajay\\anaconda3\\lib\\site-packages\\keras\\engine\\training.py:1972: UserWarning: `Model.fit_generator` is deprecated and will be removed in a future version. Please use `Model.fit`, which supports generators.\n",
      "  warnings.warn('`Model.fit_generator` is deprecated and '\n",
      "D:\\Users\\Ajay\\anaconda3\\lib\\site-packages\\keras_preprocessing\\image\\image_data_generator.py:720: UserWarning: This ImageDataGenerator specifies `featurewise_center`, but it hasn't been fit on any training data. Fit it first by calling `.fit(numpy_data)`.\n",
      "  warnings.warn('This ImageDataGenerator specifies '\n",
      "D:\\Users\\Ajay\\anaconda3\\lib\\site-packages\\keras_preprocessing\\image\\image_data_generator.py:728: UserWarning: This ImageDataGenerator specifies `featurewise_std_normalization`, but it hasn't been fit on any training data. Fit it first by calling `.fit(numpy_data)`.\n",
      "  warnings.warn('This ImageDataGenerator specifies '\n"
     ]
    },
    {
     "output_type": "stream",
     "name": "stdout",
     "text": [
      "Epoch 1/20\n",
      "345/345 [==============================] - 235s 649ms/step - loss: 0.5714 - accuracy: 0.7370 - val_loss: 0.5618 - val_accuracy: 0.7382\n",
      "Epoch 2/20\n",
      "345/345 [==============================] - 133s 384ms/step - loss: 0.5547 - accuracy: 0.7378 - val_loss: 0.5482 - val_accuracy: 0.7382\n",
      "Epoch 3/20\n",
      "345/345 [==============================] - 141s 409ms/step - loss: 0.5448 - accuracy: 0.7387 - val_loss: 0.5392 - val_accuracy: 0.7382\n",
      "Epoch 4/20\n",
      "345/345 [==============================] - 128s 371ms/step - loss: 0.5397 - accuracy: 0.7389 - val_loss: 0.5329 - val_accuracy: 0.7382\n",
      "Epoch 5/20\n",
      "345/345 [==============================] - 127s 367ms/step - loss: 0.5384 - accuracy: 0.7399 - val_loss: 0.5309 - val_accuracy: 0.7382\n",
      "Epoch 6/20\n",
      "345/345 [==============================] - 130s 378ms/step - loss: 0.5359 - accuracy: 0.7394 - val_loss: 0.5284 - val_accuracy: 0.7405\n",
      "Epoch 7/20\n",
      "345/345 [==============================] - 137s 396ms/step - loss: 0.5282 - accuracy: 0.7409 - val_loss: 0.5293 - val_accuracy: 0.7382\n",
      "Epoch 8/20\n",
      "345/345 [==============================] - 137s 397ms/step - loss: 0.5319 - accuracy: 0.7412 - val_loss: 0.5301 - val_accuracy: 0.7369\n",
      "Epoch 9/20\n",
      "345/345 [==============================] - 137s 396ms/step - loss: 0.5304 - accuracy: 0.7361 - val_loss: 0.5291 - val_accuracy: 0.7332\n",
      "Epoch 10/20\n",
      "345/345 [==============================] - 136s 395ms/step - loss: 0.5272 - accuracy: 0.7393 - val_loss: 0.5199 - val_accuracy: 0.7373\n",
      "Epoch 11/20\n",
      "345/345 [==============================] - 130s 376ms/step - loss: 0.5262 - accuracy: 0.7426 - val_loss: 0.5252 - val_accuracy: 0.7391\n",
      "Epoch 12/20\n",
      "345/345 [==============================] - 133s 387ms/step - loss: 0.5320 - accuracy: 0.7408 - val_loss: 0.5226 - val_accuracy: 0.7369\n",
      "Epoch 13/20\n",
      "345/345 [==============================] - 136s 395ms/step - loss: 0.5265 - accuracy: 0.7414 - val_loss: 0.5388 - val_accuracy: 0.7283\n",
      "Epoch 14/20\n",
      "345/345 [==============================] - 136s 395ms/step - loss: 0.5273 - accuracy: 0.7388 - val_loss: 0.5186 - val_accuracy: 0.7378\n",
      "Epoch 15/20\n",
      "345/345 [==============================] - 137s 396ms/step - loss: 0.5255 - accuracy: 0.7401 - val_loss: 0.5221 - val_accuracy: 0.7400\n",
      "Epoch 16/20\n",
      "345/345 [==============================] - 134s 387ms/step - loss: 0.5242 - accuracy: 0.7428 - val_loss: 0.5162 - val_accuracy: 0.7346\n",
      "Epoch 17/20\n",
      "345/345 [==============================] - 126s 364ms/step - loss: 0.5254 - accuracy: 0.7405 - val_loss: 0.5235 - val_accuracy: 0.7396\n",
      "Epoch 18/20\n",
      "345/345 [==============================] - 125s 363ms/step - loss: 0.5242 - accuracy: 0.7397 - val_loss: 0.5209 - val_accuracy: 0.7405\n",
      "Epoch 19/20\n",
      "345/345 [==============================] - 125s 363ms/step - loss: 0.5220 - accuracy: 0.7415 - val_loss: 0.5158 - val_accuracy: 0.7346\n",
      "Epoch 20/20\n",
      "345/345 [==============================] - 126s 366ms/step - loss: 0.5255 - accuracy: 0.7404 - val_loss: 0.5284 - val_accuracy: 0.7382\n"
     ]
    },
    {
     "output_type": "execute_result",
     "data": {
      "text/plain": [
       "<keras.callbacks.History at 0x25797ba3970>"
      ]
     },
     "metadata": {},
     "execution_count": 14
    }
   ],
   "metadata": {}
  },
  {
   "cell_type": "code",
   "execution_count": 17,
   "source": [
    "score = model.evaluate(valid_generator,batch_size=32)\r\n",
    "print(\"Validation Accuracy: {:.2f}%\".format(score[1] * 100)) \r\n",
    "print(\"Loss: \",score[0])"
   ],
   "outputs": [
    {
     "output_type": "stream",
     "name": "stdout",
     "text": [
      "69/69 [==============================] - 5s 77ms/step - loss: 0.5284 - accuracy: 0.7382\n",
      "Accuracy: 73.82%\n",
      "Loss:  0.5283759832382202\n"
     ]
    }
   ],
   "metadata": {}
  },
  {
   "cell_type": "code",
   "execution_count": 18,
   "source": [
    "score = model.evaluate(test_generator,batch_size=11)\r\n",
    "print(\"Test Accuracy: {:.2f}%\".format(score[1] * 100)) \r\n",
    "print(\"Loss: \",score[0])"
   ],
   "outputs": [
    {
     "output_type": "stream",
     "name": "stdout",
     "text": [
      "251/251 [==============================] - 8s 31ms/step - loss: 0.5237 - accuracy: 0.7392\n",
      "Accuracy: 73.92%\n",
      "Loss:  0.5237259864807129\n"
     ]
    }
   ],
   "metadata": {}
  },
  {
   "cell_type": "code",
   "execution_count": 19,
   "source": [
    "model.save('mobilev3large')"
   ],
   "outputs": [
    {
     "output_type": "stream",
     "name": "stderr",
     "text": [
      "WARNING:absl:Function `_wrapped_model` contains input name(s) MobilenetV3large_input with unsupported characters which will be renamed to mobilenetv3large_input in the SavedModel.\n"
     ]
    },
    {
     "output_type": "stream",
     "name": "stdout",
     "text": [
      "INFO:tensorflow:Assets written to: mobilev3large\\assets\n"
     ]
    },
    {
     "output_type": "stream",
     "name": "stderr",
     "text": [
      "INFO:tensorflow:Assets written to: mobilev3large\\assets\n",
      "D:\\Users\\Ajay\\anaconda3\\lib\\site-packages\\keras\\utils\\generic_utils.py:494: CustomMaskWarning: Custom mask layers require a config and must override get_config. When loading, the custom mask layer must be passed to the custom_objects argument.\n",
      "  warnings.warn('Custom mask layers require a config and must override '\n"
     ]
    }
   ],
   "metadata": {}
  },
  {
   "cell_type": "code",
   "execution_count": 20,
   "source": [
    "loaded_model = keras.models.load_model('mobilev3large')"
   ],
   "outputs": [],
   "metadata": {}
  },
  {
   "cell_type": "code",
   "execution_count": 21,
   "source": [
    "# Calculating the validation score\r\n",
    "valscore = loaded_model.evaluate(valid_generator)\r\n",
    "print(\"Accuracy: {:.2f}%\".format(valscore[1] * 100))"
   ],
   "outputs": [
    {
     "output_type": "stream",
     "name": "stdout",
     "text": [
      "69/69 [==============================] - 7s 81ms/step - loss: 0.5284 - accuracy: 0.7382\n",
      "Accuracy: 73.82%\n"
     ]
    }
   ],
   "metadata": {}
  },
  {
   "cell_type": "code",
   "execution_count": 22,
   "source": [
    "# Calculating the test score\r\n",
    "score = loaded_model.evaluate(test_generator)\r\n",
    "print(\"Test Accuracy on preloaded: {:.2f}%\".format(score[1] * 100))"
   ],
   "outputs": [
    {
     "output_type": "stream",
     "name": "stdout",
     "text": [
      "251/251 [==============================] - 8s 31ms/step - loss: 0.5237 - accuracy: 0.7392\n",
      "Accuracy: 73.92%\n"
     ]
    }
   ],
   "metadata": {}
  }
 ],
 "metadata": {
  "kernelspec": {
   "name": "python3",
   "display_name": "Python 3.8.5 64-bit ('base': conda)"
  },
  "language_info": {
   "codemirror_mode": {
    "name": "ipython",
    "version": 3
   },
   "file_extension": ".py",
   "mimetype": "text/x-python",
   "name": "python",
   "nbconvert_exporter": "python",
   "pygments_lexer": "ipython3",
   "version": "3.8.5"
  },
  "interpreter": {
   "hash": "fa21fb21f35f0cee2ea11d162cf95a9b435139d0e907c7a64571c5b1d8494e00"
  }
 },
 "nbformat": 4,
 "nbformat_minor": 2
}