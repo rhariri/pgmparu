{
 "cells": [
  {
   "cell_type": "code",
   "execution_count": 1,
   "source": [
    "# importing libraries\r\n",
    "from keras_preprocessing.image import ImageDataGenerator\r\n",
    "import os\r\n",
    "import keras\r\n",
    "import numpy as np\r\n",
    "import cv2\r\n",
    "from sklearn.metrics import accuracy_score"
   ],
   "outputs": [],
   "metadata": {}
  },
  {
   "cell_type": "code",
   "execution_count": 2,
   "source": [
    "# There are two classes of interests among the images in dataset\r\n",
    "cls_of_int = ['Covid', 'Normal']"
   ],
   "outputs": [],
   "metadata": {}
  },
  {
   "cell_type": "code",
   "execution_count": 3,
   "source": [
    "#setting the path variables for train, test and validation data\r\n",
    "basePath = \"Data\"\r\n",
    "trainPath = os.path.join(basePath,\"train\")\r\n",
    "testPath = os.path.join(basePath,\"test\")\r\n",
    "validPath = os.path.join(basePath,\"valid\")\r\n",
    "\r\n",
    "trainCovid = os.path.join(trainPath,\"Covid\")\r\n",
    "trainNormal = os.path.join(trainPath,\"Normal\")\r\n",
    "\r\n",
    "testCovid = os.path.join(testPath,\"Covid\")\r\n",
    "testNormal = os.path.join(testPath,\"Normal\")\r\n",
    "\r\n",
    "validCovid = os.path.join(basePath,\"valid\",\"Covid\")\r\n",
    "validNormal = os.path.join(basePath,\"valid\",\"Normal\")"
   ],
   "outputs": [],
   "metadata": {}
  },
  {
   "cell_type": "code",
   "execution_count": 4,
   "source": [
    "# The data generator for test data, normalizing of the image is done\r\n",
    "test_data_generator = ImageDataGenerator(rescale = 1./255)"
   ],
   "outputs": [],
   "metadata": {}
  },
  {
   "cell_type": "code",
   "execution_count": 5,
   "source": [
    "# Read data from directory for testing data\r\n",
    "test_generator = test_data_generator.flow_from_directory(\r\n",
    "    directory= testPath,\r\n",
    "    target_size=(224, 224),\r\n",
    "    color_mode=\"rgb\",\r\n",
    "    batch_size=11,\r\n",
    "    class_mode='binary',\r\n",
    "    shuffle=False,\r\n",
    "    seed=42\r\n",
    ")"
   ],
   "outputs": [
    {
     "output_type": "stream",
     "name": "stdout",
     "text": [
      "Found 2761 images belonging to 2 classes.\n"
     ]
    }
   ],
   "metadata": {}
  },
  {
   "cell_type": "code",
   "execution_count": 6,
   "source": [
    "# combining the xception and inception model\r\n",
    "xception_model = keras.models.load_model('imagegeneratormodelxc')\r\n",
    "inception_model = keras.models.load_model('imagegeneratormodel')\r\n",
    "models = [xception_model,inception_model]"
   ],
   "outputs": [],
   "metadata": {}
  },
  {
   "cell_type": "code",
   "execution_count": 8,
   "source": [
    "# Make prediction using the ensemble technique\r\n",
    "def ensemble_predictions(members):\r\n",
    "  yhats = [model.evaluate(test_generator) for model in members]\r\n",
    "  yhats = np.array(yhats)\r\n",
    "  # sum across ensemble members\r\n",
    "  summed = np.sum(yhats, axis=0)\r\n",
    "  # argmax across classes\r\n",
    "  result = np.argmax(summed, axis=1)\r\n",
    "  return result"
   ],
   "outputs": [],
   "metadata": {}
  },
  {
   "cell_type": "code",
   "execution_count": null,
   "source": [
    "# Method to call ensemble prediction against a list of file path\r\n",
    "def readIm(filepaths):\r\n",
    "    predictions = []\r\n",
    "    for path in filepaths:\r\n",
    "        img = cv2.imread(path)\r\n",
    "        img = cv2.resize(img,(224,224))\r\n",
    "        img = img[np.newaxis,...]\r\n",
    "        img = img.astype(np.float32)        \r\n",
    "        class_index = ensemble_predictions(models,img)[0]\r\n",
    "        predictions.append(class_index)\r\n",
    "    \r\n",
    "    return predictions"
   ],
   "outputs": [],
   "metadata": {}
  },
  {
   "cell_type": "code",
   "execution_count": 9,
   "source": [
    "# Calling prediction against test dataset\r\n",
    "predictions = readIm(test_generator.filepaths)\r\n",
    "\r\n",
    "# the real classes from test generator.\r\n",
    "realclasses = test_generator.classes\r\n",
    "\r\n",
    "#Calculating the accuracy score\r\n",
    "accuracy = accuracy_score(realclasses,predictions)"
   ],
   "outputs": [
    {
     "output_type": "stream",
     "name": "stdout",
     "text": [
      "251/251 [==============================] - 23s 79ms/step - loss: 0.2775 - accuracy: 0.8877\n",
      "251/251 [==============================] - 17s 59ms/step - loss: 0.2689 - accuracy: 0.8932\n",
      "251/251 [==============================] - 10s 34ms/step - loss: 0.5237 - accuracy: 0.7392\n"
     ]
    },
    {
     "output_type": "error",
     "ename": "AxisError",
     "evalue": "axis 1 is out of bounds for array of dimension 1",
     "traceback": [
      "\u001b[1;31m---------------------------------------------------------------------------\u001b[0m",
      "\u001b[1;31mAxisError\u001b[0m                                 Traceback (most recent call last)",
      "\u001b[1;32m<ipython-input-9-ea92f4fca874>\u001b[0m in \u001b[0;36m<module>\u001b[1;34m\u001b[0m\n\u001b[1;32m----> 1\u001b[1;33m \u001b[0mscore\u001b[0m \u001b[1;33m=\u001b[0m \u001b[0mensemble_predictions\u001b[0m\u001b[1;33m(\u001b[0m\u001b[0mmodels\u001b[0m\u001b[1;33m)\u001b[0m\u001b[1;33m\u001b[0m\u001b[1;33m\u001b[0m\u001b[0m\n\u001b[0m\u001b[0;32m      2\u001b[0m \u001b[0mprint\u001b[0m\u001b[1;33m(\u001b[0m\u001b[0mscore\u001b[0m\u001b[1;33m)\u001b[0m\u001b[1;33m\u001b[0m\u001b[1;33m\u001b[0m\u001b[0m\n",
      "\u001b[1;32m<ipython-input-8-36e0c83303f7>\u001b[0m in \u001b[0;36mensemble_predictions\u001b[1;34m(members)\u001b[0m\n\u001b[0;32m      5\u001b[0m   \u001b[0msummed\u001b[0m \u001b[1;33m=\u001b[0m \u001b[0mnp\u001b[0m\u001b[1;33m.\u001b[0m\u001b[0msum\u001b[0m\u001b[1;33m(\u001b[0m\u001b[0myhats\u001b[0m\u001b[1;33m,\u001b[0m \u001b[0maxis\u001b[0m\u001b[1;33m=\u001b[0m\u001b[1;36m0\u001b[0m\u001b[1;33m)\u001b[0m\u001b[1;33m\u001b[0m\u001b[1;33m\u001b[0m\u001b[0m\n\u001b[0;32m      6\u001b[0m   \u001b[1;31m# argmax across classes\u001b[0m\u001b[1;33m\u001b[0m\u001b[1;33m\u001b[0m\u001b[1;33m\u001b[0m\u001b[0m\n\u001b[1;32m----> 7\u001b[1;33m   \u001b[0mresult\u001b[0m \u001b[1;33m=\u001b[0m \u001b[0mnp\u001b[0m\u001b[1;33m.\u001b[0m\u001b[0margmax\u001b[0m\u001b[1;33m(\u001b[0m\u001b[0msummed\u001b[0m\u001b[1;33m,\u001b[0m \u001b[0maxis\u001b[0m\u001b[1;33m=\u001b[0m\u001b[1;36m1\u001b[0m\u001b[1;33m)\u001b[0m\u001b[1;33m\u001b[0m\u001b[1;33m\u001b[0m\u001b[0m\n\u001b[0m\u001b[0;32m      8\u001b[0m   \u001b[1;32mreturn\u001b[0m \u001b[0mresult\u001b[0m\u001b[1;33m\u001b[0m\u001b[1;33m\u001b[0m\u001b[0m\n",
      "\u001b[1;32m<__array_function__ internals>\u001b[0m in \u001b[0;36margmax\u001b[1;34m(*args, **kwargs)\u001b[0m\n",
      "\u001b[1;32mD:\\Users\\Ajay\\anaconda3\\lib\\site-packages\\numpy\\core\\fromnumeric.py\u001b[0m in \u001b[0;36margmax\u001b[1;34m(a, axis, out)\u001b[0m\n\u001b[0;32m   1186\u001b[0m \u001b[1;33m\u001b[0m\u001b[0m\n\u001b[0;32m   1187\u001b[0m     \"\"\"\n\u001b[1;32m-> 1188\u001b[1;33m     \u001b[1;32mreturn\u001b[0m \u001b[0m_wrapfunc\u001b[0m\u001b[1;33m(\u001b[0m\u001b[0ma\u001b[0m\u001b[1;33m,\u001b[0m \u001b[1;34m'argmax'\u001b[0m\u001b[1;33m,\u001b[0m \u001b[0maxis\u001b[0m\u001b[1;33m=\u001b[0m\u001b[0maxis\u001b[0m\u001b[1;33m,\u001b[0m \u001b[0mout\u001b[0m\u001b[1;33m=\u001b[0m\u001b[0mout\u001b[0m\u001b[1;33m)\u001b[0m\u001b[1;33m\u001b[0m\u001b[1;33m\u001b[0m\u001b[0m\n\u001b[0m\u001b[0;32m   1189\u001b[0m \u001b[1;33m\u001b[0m\u001b[0m\n\u001b[0;32m   1190\u001b[0m \u001b[1;33m\u001b[0m\u001b[0m\n",
      "\u001b[1;32mD:\\Users\\Ajay\\anaconda3\\lib\\site-packages\\numpy\\core\\fromnumeric.py\u001b[0m in \u001b[0;36m_wrapfunc\u001b[1;34m(obj, method, *args, **kwds)\u001b[0m\n\u001b[0;32m     56\u001b[0m \u001b[1;33m\u001b[0m\u001b[0m\n\u001b[0;32m     57\u001b[0m     \u001b[1;32mtry\u001b[0m\u001b[1;33m:\u001b[0m\u001b[1;33m\u001b[0m\u001b[1;33m\u001b[0m\u001b[0m\n\u001b[1;32m---> 58\u001b[1;33m         \u001b[1;32mreturn\u001b[0m \u001b[0mbound\u001b[0m\u001b[1;33m(\u001b[0m\u001b[1;33m*\u001b[0m\u001b[0margs\u001b[0m\u001b[1;33m,\u001b[0m \u001b[1;33m**\u001b[0m\u001b[0mkwds\u001b[0m\u001b[1;33m)\u001b[0m\u001b[1;33m\u001b[0m\u001b[1;33m\u001b[0m\u001b[0m\n\u001b[0m\u001b[0;32m     59\u001b[0m     \u001b[1;32mexcept\u001b[0m \u001b[0mTypeError\u001b[0m\u001b[1;33m:\u001b[0m\u001b[1;33m\u001b[0m\u001b[1;33m\u001b[0m\u001b[0m\n\u001b[0;32m     60\u001b[0m         \u001b[1;31m# A TypeError occurs if the object does have such a method in its\u001b[0m\u001b[1;33m\u001b[0m\u001b[1;33m\u001b[0m\u001b[1;33m\u001b[0m\u001b[0m\n",
      "\u001b[1;31mAxisError\u001b[0m: axis 1 is out of bounds for array of dimension 1"
     ]
    }
   ],
   "metadata": {}
  },
  {
   "cell_type": "code",
   "execution_count": null,
   "source": [
    "# Printing accuracy score\r\n",
    "print(accuracy)"
   ],
   "outputs": [],
   "metadata": {}
  }
 ],
 "metadata": {
  "kernelspec": {
   "name": "python3",
   "display_name": "Python 3.8.5 64-bit ('base': conda)"
  },
  "language_info": {
   "codemirror_mode": {
    "name": "ipython",
    "version": 3
   },
   "file_extension": ".py",
   "mimetype": "text/x-python",
   "name": "python",
   "nbconvert_exporter": "python",
   "pygments_lexer": "ipython3",
   "version": "3.8.5"
  },
  "interpreter": {
   "hash": "fa21fb21f35f0cee2ea11d162cf95a9b435139d0e907c7a64571c5b1d8494e00"
  }
 },
 "nbformat": 4,
 "nbformat_minor": 2
}